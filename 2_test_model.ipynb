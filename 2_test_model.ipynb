{
 "cells": [
  {
   "cell_type": "code",
   "execution_count": null,
   "metadata": {},
   "outputs": [],
   "source": [
    "from models import RegressionNet\n",
    "import torch\n",
    "from draw import draw_prediction\n",
    "\n",
    "input_size = 400\n",
    "hidden_size = 16\n",
    "output_size = 5\n",
    "\n",
    "model = RegressionNet(input_size, hidden_size, output_size)\n",
    "# model.load_state_dict(torch.load('save_best_model_epoch_29.pth'))\n",
    "# model.load_state_dict(torch.load('checkpoint.pth'))\n",
    "model.load_state_dict(torch.load('save_best_model_epoch_29.pth'))\n",
    "device = torch.device(\"cuda\" if torch.cuda.is_available() else \"cpu\")\n",
    "\n",
    "model.to(device)\n",
    "\n",
    "draw_prediction(model)\n"
   ]
  }
 ],
 "metadata": {
  "kernelspec": {
   "display_name": "fit",
   "language": "python",
   "name": "python3"
  },
  "language_info": {
   "codemirror_mode": {
    "name": "ipython",
    "version": 3
   },
   "file_extension": ".py",
   "mimetype": "text/x-python",
   "name": "python",
   "nbconvert_exporter": "python",
   "pygments_lexer": "ipython3",
   "version": "3.10.14"
  }
 },
 "nbformat": 4,
 "nbformat_minor": 2
}
